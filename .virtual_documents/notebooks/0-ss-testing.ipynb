get_ipython().run_line_magic("load_ext", " autoreload")
get_ipython().run_line_magic("autoreload", " 2")
get_ipython().run_line_magic("load_ext", " rpy2.ipython")


import os
import numpy as np
import pandas as pd
import rpy2
from rpy2.robjects.packages import importr


# import R's "base" package
base = importr('base')

# import R's "utils" package
utils = importr('utils')

# select a mirror for R packages
utils.chooseCRANmirror(ind=1) # select the first mirror in the list


#install R packages
#utils.install_packages("ggplot2")


rpy2.ipython.rmagic.RMagics.R("""
library(ggplot2)
gg""", "")


rpy2.ipython.rmagic.RMagics.R("""dat <- data.frame(x = 2, y = 3)
""", "")


rpy2.ipython.rmagic.RMagics.R("""ggplot(data = daat, mapping =
""", "")
